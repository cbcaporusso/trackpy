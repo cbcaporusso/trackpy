{
 "cells": [
  {
   "cell_type": "code",
   "execution_count": 1,
   "metadata": {},
   "outputs": [
    {
     "name": "stdout",
     "output_type": "stream",
     "text": [
      "<CDLL '/mnt/ccc8396f-9fcc-4f78-a86e-4845b5571dba/Dropbox/PhD/Projects/trackpy/trackpy/corr/corr.so', handle 55d604a17070 at 0x7fecc775d960>\n"
     ]
    }
   ],
   "source": [
    "# load compiled C shared library\n",
    "import numpy as np\n",
    "import ctypes\n",
    "\n",
    "lib = np.ctypeslib.load_library('corr.so','.')\n",
    "print(lib)\n",
    "corr = lib.hex_correlations\n",
    "\n",
    "# corr returns a int\n",
    "corr.restype = ctypes.c_int"
   ]
  },
  {
   "cell_type": "code",
   "execution_count": 2,
   "metadata": {},
   "outputs": [],
   "source": [
    "#load data\n",
    "\n",
    "data = np.loadtxt('xyz.dump.10000000.hexatic')\n",
    "\n",
    "pos_x = np.ascontiguousarray(data[:, 1])\n",
    "pos_y = np.ascontiguousarray(data[:, 2])\n",
    "\n",
    "pos_x_ctype = np.ctypeslib.as_ctypes(pos_x)\n",
    "pos_y_ctype = np.ctypeslib.as_ctypes(pos_y)\n",
    "\n",
    "psi6_re = np.ascontiguousarray(data[:, 4])\n",
    "psi6_im = np.ascontiguousarray(data[:, 5])\n",
    "\n",
    "psi6_re_ctype = np.ctypeslib.as_ctypes(psi6_re)\n",
    "psi6_im_ctype = np.ctypeslib.as_ctypes(psi6_im)\n",
    "\n",
    "ntot = len(pos_x)\n",
    "\n",
    "lx = np.max(pos_x+1.0)\n",
    "ly = np.max(pos_y+1.0)\n",
    "\n",
    "lx_ctype = ctypes.c_double(lx)\n",
    "ly_ctype = ctypes.c_double(ly)\n",
    "\n",
    "hex_name = 'prova_new' #name of the output file\n",
    "hex_name_ctype = ctypes.c_char_p(hex_name.encode('utf-8'))"
   ]
  },
  {
   "cell_type": "code",
   "execution_count": 3,
   "metadata": {},
   "outputs": [
    {
     "name": "stderr",
     "output_type": "stream",
     "text": [
      "Correlations for prova_new with 65536 particles in a box of size 321.848000 x 321.846000 with dr = 1.000000 and 161 shells (max lenght = 321.846000) ... 0.00\n",
      "1.53\n",
      "3.05\n",
      "4.58\n",
      "6.10\n",
      "7.63\n",
      "9.16\n",
      "10.68\n",
      "12.21\n",
      "13.73\n",
      "15.26\n",
      "16.78\n",
      "18.31\n",
      "19.84\n",
      "21.36\n",
      "22.89\n",
      "24.41\n",
      "25.94\n",
      "27.47\n",
      "28.99\n",
      "30.52\n",
      "32.04\n",
      "33.57\n",
      "35.10\n",
      "36.62\n",
      "38.15\n",
      "39.67\n",
      "41.20\n",
      "42.72\n",
      "44.25\n",
      "45.78\n",
      "47.30\n",
      "48.83\n",
      "50.35\n",
      "51.88\n",
      "53.41\n",
      "54.93\n",
      "56.46\n",
      "57.98\n",
      "59.51\n",
      "61.04\n",
      "62.56\n",
      "64.09\n",
      "65.61\n",
      "67.14\n",
      "68.66\n",
      "70.19\n",
      "71.72\n",
      "73.24\n",
      "74.77\n",
      "76.29\n",
      "77.82\n",
      "79.35\n",
      "80.87\n",
      "82.40\n",
      "83.92\n",
      "85.45\n",
      "86.98\n",
      "88.50\n",
      "90.03\n",
      "91.55\n",
      "93.08\n",
      "94.60\n",
      "96.13\n",
      "97.66\n",
      "99.18\n"
     ]
    }
   ],
   "source": [
    "result = corr(ntot, pos_x_ctype, pos_y_ctype, psi6_re_ctype, psi6_im_ctype, lx_ctype, ly_ctype, ctypes.c_double(1.0), hex_name_ctype)"
   ]
  },
  {
   "cell_type": "code",
   "execution_count": 15,
   "metadata": {},
   "outputs": [
    {
     "name": "stdout",
     "output_type": "stream",
     "text": [
      "161\n"
     ]
    }
   ],
   "source": [
    "print(result)"
   ]
  }
 ],
 "metadata": {
  "kernelspec": {
   "display_name": "Python 3",
   "language": "python",
   "name": "python3"
  },
  "language_info": {
   "codemirror_mode": {
    "name": "ipython",
    "version": 3
   },
   "file_extension": ".py",
   "mimetype": "text/x-python",
   "name": "python",
   "nbconvert_exporter": "python",
   "pygments_lexer": "ipython3",
   "version": "3.10.6"
  },
  "orig_nbformat": 4,
  "vscode": {
   "interpreter": {
    "hash": "31f2aee4e71d21fbe5cf8b01ff0e069b9275f58929596ceb00d14d90e3e16cd6"
   }
  }
 },
 "nbformat": 4,
 "nbformat_minor": 2
}
